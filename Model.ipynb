{
  "nbformat": 4,
  "nbformat_minor": 0,
  "metadata": {
    "colab": {
      "provenance": [],
      "toc_visible": true,
      "mount_file_id": "1n_WBm4GRUovqoPeiirVUhDwVySbXeS85",
      "authorship_tag": "ABX9TyPsE+Gbh7TaVxE94FwxvNeW",
      "include_colab_link": true
    },
    "kernelspec": {
      "name": "python3",
      "display_name": "Python 3"
    },
    "language_info": {
      "name": "python"
    },
    "accelerator": "GPU",
    "gpuClass": "standard"
  },
  "cells": [
    {
      "cell_type": "markdown",
      "metadata": {
        "id": "view-in-github",
        "colab_type": "text"
      },
      "source": [
        "<a href=\"https://colab.research.google.com/github/MarKr17/BloodVessels/blob/master/Model.ipynb\" target=\"_parent\"><img src=\"https://colab.research.google.com/assets/colab-badge.svg\" alt=\"Open In Colab\"/></a>"
      ]
    },
    {
      "cell_type": "markdown",
      "source": [
        "# Pomocnicze"
      ],
      "metadata": {
        "id": "WI16A3s1rr8K"
      }
    },
    {
      "cell_type": "markdown",
      "source": [
        "Funkcje pomocnicze obliczające: współczynnik Dice'a/Sorensena(dice_coef), intersection over union(iou), służą one w późniejszych etapach do obliczania współczynnikia Jaccarda. Są one potrzebne m.in do określania poprawności przewidzianych granic"
      ],
      "metadata": {
        "id": "X1bjqh0pFBJt"
      }
    },
    {
      "cell_type": "code",
      "source": [
        "import numpy as np\n",
        "import tensorflow as tf\n",
        "from tensorflow.keras import backend as K\n",
        "\n",
        "def iou(y_true, y_pred):\n",
        "    def f(y_true, y_pred):\n",
        "        intersection = (y_true * y_pred).sum()\n",
        "        union = y_true.sum() + y_pred.sum() - intersection\n",
        "        x = (intersection + 1e-15) / (union + 1e-15)\n",
        "        x = x.astype(np.float32)\n",
        "        return x\n",
        "    return tf.numpy_function(f, [y_true, y_pred], tf.float32)\n",
        "\n",
        "smooth = 1e-15\n",
        "def dice_coef(y_true, y_pred):\n",
        "    y_true = tf.keras.layers.Flatten()(y_true)\n",
        "    y_pred = tf.keras.layers.Flatten()(y_pred)\n",
        "    intersection = tf.reduce_sum(y_true * y_pred)\n",
        "    return (2. * intersection + smooth) / (tf.reduce_sum(y_true) + tf.reduce_sum(y_pred) + smooth)\n",
        "\n",
        "def dice_loss(y_true, y_pred):\n",
        "    return 1.0 - dice_coef(y_true, y_pred)"
      ],
      "metadata": {
        "id": "rzN2jJUsrw7-"
      },
      "execution_count": null,
      "outputs": []
    },
    {
      "cell_type": "markdown",
      "source": [
        "# Tworzenie modelu"
      ],
      "metadata": {
        "id": "qAw-71l_ZCnX"
      }
    },
    {
      "cell_type": "code",
      "execution_count": null,
      "metadata": {
        "id": "amWDE2v8SCda"
      },
      "outputs": [],
      "source": [
        "from tensorflow.keras.layers import Conv2D, BatchNormalization, Activation, MaxPool2D, Input, Conv2DTranspose, Concatenate\n",
        "from tensorflow.keras.models import Model\n",
        "\n"
      ]
    },
    {
      "cell_type": "markdown",
      "source": [
        "Deklaracja funkcji odpowiadających za tworzenie warstw sieci unet. Dokonano dosyć znacznego zmniejszenia pierwotnych warstw z powodu ograniczeń narzędzia GoggleColaboratory"
      ],
      "metadata": {
        "id": "QBaNipe3IBKk"
      }
    },
    {
      "cell_type": "code",
      "source": [
        "def conv_block(inputs, num_filters):\n",
        "  x = Conv2D(num_filters, 3, padding=\"same\")(inputs)\n",
        "  x = BatchNormalization()(x)\n",
        "  x = Activation(\"relu\")(x)\n",
        "\n",
        "  x = Conv2D(num_filters, 3, padding=\"same\")(x)\n",
        "  x = BatchNormalization()(x)\n",
        "  x = Activation(\"relu\")(x)\n",
        "  return x\n",
        "def encoder_block(inputs, num_filters):\n",
        "  x = conv_block(inputs, num_filters)\n",
        "  p = MaxPool2D((2,2))(x)\n",
        "  return x,p\n",
        "def decoder_block(inputs, skip_features, num_filters):\n",
        "  x = Conv2DTranspose(num_filters, (2,2), strides=2, padding=\"same\")(inputs)\n",
        "  x = Concatenate()([x, skip_features])\n",
        "  x=conv_block(x,num_filters)\n",
        "  return x\n",
        "def build_unet(input_shape):\n",
        "  inputs = Input(input_shape)\n",
        "\n",
        "  s1, p1 = encoder_block(inputs, 64)\n",
        "  s2, p2 = encoder_block(p1, 128)\n",
        "  s3, p3 = encoder_block(p2, 256)\n",
        "  s4, p4 = encoder_block(p3, 512)\n",
        "\n",
        "  b1 = conv_block(p4, 1024)\n",
        "\n",
        "  d1 = decoder_block(b1, s4, 512)\n",
        "  d2 = decoder_block(d1, s3, 256)\n",
        "  d3 = decoder_block(d2, s2, 128)\n",
        "  d4 = decoder_block(d3, s1, 64)\n",
        "\n",
        "  outputs = Conv2D(1, 1, padding=\"same\", activation=\"sigmoid\")(d4)\n",
        "\n",
        "  model = Model(inputs, outputs, name=\"UNET\")\n",
        "  return model\n",
        "  '''\n",
        "  s1, p1 = encoder_block(inputs, 32)\n",
        "  s2, p2 = encoder_block(p1, 64)\n",
        "  s3, p3 = encoder_block(p2, 128)\n",
        "\n",
        "  b1 = conv_block(p3, 256)\n",
        "  d1 = decoder_block(b1, s3, 128)\n",
        "  d2 = decoder_block(d1, s2, 64)\n",
        "  d3 = decoder_block(d2, s1, 32)\n",
        "  '''"
      ],
      "metadata": {
        "id": "h1A80D6PSMvj"
      },
      "execution_count": null,
      "outputs": []
    },
    {
      "cell_type": "markdown",
      "source": [
        "Inicjacja modelu na podstawie zbudowanej sieci Unet"
      ],
      "metadata": {
        "id": "8V4Il2aKJB-M"
      }
    },
    {
      "cell_type": "code",
      "source": [
        "if __name__==\"__main__\":\n",
        "  input_shape = (512, 512, 3)\n",
        "  model = build_unet(input_shape)\n",
        "  model.summary()"
      ],
      "metadata": {
        "id": "Pw1eY-pnUrjb",
        "colab": {
          "base_uri": "https://localhost:8080/"
        },
        "outputId": "15be98a9-2575-4aaf-f505-13b6f83155e5"
      },
      "execution_count": null,
      "outputs": [
        {
          "output_type": "stream",
          "name": "stdout",
          "text": [
            "Model: \"UNET\"\n",
            "__________________________________________________________________________________________________\n",
            " Layer (type)                   Output Shape         Param #     Connected to                     \n",
            "==================================================================================================\n",
            " input_40 (InputLayer)          [(None, 512, 512, 3  0           []                               \n",
            "                                )]                                                                \n",
            "                                                                                                  \n",
            " conv2d_685 (Conv2D)            (None, 512, 512, 64  1792        ['input_40[0][0]']               \n",
            "                                )                                                                 \n",
            "                                                                                                  \n",
            " batch_normalization_648 (Batch  (None, 512, 512, 64  256        ['conv2d_685[0][0]']             \n",
            " Normalization)                 )                                                                 \n",
            "                                                                                                  \n",
            " activation_648 (Activation)    (None, 512, 512, 64  0           ['batch_normalization_648[0][0]']\n",
            "                                )                                                                 \n",
            "                                                                                                  \n",
            " conv2d_686 (Conv2D)            (None, 512, 512, 64  36928       ['activation_648[0][0]']         \n",
            "                                )                                                                 \n",
            "                                                                                                  \n",
            " batch_normalization_649 (Batch  (None, 512, 512, 64  256        ['conv2d_686[0][0]']             \n",
            " Normalization)                 )                                                                 \n",
            "                                                                                                  \n",
            " activation_649 (Activation)    (None, 512, 512, 64  0           ['batch_normalization_649[0][0]']\n",
            "                                )                                                                 \n",
            "                                                                                                  \n",
            " max_pooling2d_147 (MaxPooling2  (None, 256, 256, 64  0          ['activation_649[0][0]']         \n",
            " D)                             )                                                                 \n",
            "                                                                                                  \n",
            " conv2d_687 (Conv2D)            (None, 256, 256, 12  73856       ['max_pooling2d_147[0][0]']      \n",
            "                                8)                                                                \n",
            "                                                                                                  \n",
            " batch_normalization_650 (Batch  (None, 256, 256, 12  512        ['conv2d_687[0][0]']             \n",
            " Normalization)                 8)                                                                \n",
            "                                                                                                  \n",
            " activation_650 (Activation)    (None, 256, 256, 12  0           ['batch_normalization_650[0][0]']\n",
            "                                8)                                                                \n",
            "                                                                                                  \n",
            " conv2d_688 (Conv2D)            (None, 256, 256, 12  147584      ['activation_650[0][0]']         \n",
            "                                8)                                                                \n",
            "                                                                                                  \n",
            " batch_normalization_651 (Batch  (None, 256, 256, 12  512        ['conv2d_688[0][0]']             \n",
            " Normalization)                 8)                                                                \n",
            "                                                                                                  \n",
            " activation_651 (Activation)    (None, 256, 256, 12  0           ['batch_normalization_651[0][0]']\n",
            "                                8)                                                                \n",
            "                                                                                                  \n",
            " max_pooling2d_148 (MaxPooling2  (None, 128, 128, 12  0          ['activation_651[0][0]']         \n",
            " D)                             8)                                                                \n",
            "                                                                                                  \n",
            " conv2d_689 (Conv2D)            (None, 128, 128, 25  295168      ['max_pooling2d_148[0][0]']      \n",
            "                                6)                                                                \n",
            "                                                                                                  \n",
            " batch_normalization_652 (Batch  (None, 128, 128, 25  1024       ['conv2d_689[0][0]']             \n",
            " Normalization)                 6)                                                                \n",
            "                                                                                                  \n",
            " activation_652 (Activation)    (None, 128, 128, 25  0           ['batch_normalization_652[0][0]']\n",
            "                                6)                                                                \n",
            "                                                                                                  \n",
            " conv2d_690 (Conv2D)            (None, 128, 128, 25  590080      ['activation_652[0][0]']         \n",
            "                                6)                                                                \n",
            "                                                                                                  \n",
            " batch_normalization_653 (Batch  (None, 128, 128, 25  1024       ['conv2d_690[0][0]']             \n",
            " Normalization)                 6)                                                                \n",
            "                                                                                                  \n",
            " activation_653 (Activation)    (None, 128, 128, 25  0           ['batch_normalization_653[0][0]']\n",
            "                                6)                                                                \n",
            "                                                                                                  \n",
            " max_pooling2d_149 (MaxPooling2  (None, 64, 64, 256)  0          ['activation_653[0][0]']         \n",
            " D)                                                                                               \n",
            "                                                                                                  \n",
            " conv2d_691 (Conv2D)            (None, 64, 64, 512)  1180160     ['max_pooling2d_149[0][0]']      \n",
            "                                                                                                  \n",
            " batch_normalization_654 (Batch  (None, 64, 64, 512)  2048       ['conv2d_691[0][0]']             \n",
            " Normalization)                                                                                   \n",
            "                                                                                                  \n",
            " activation_654 (Activation)    (None, 64, 64, 512)  0           ['batch_normalization_654[0][0]']\n",
            "                                                                                                  \n",
            " conv2d_692 (Conv2D)            (None, 64, 64, 512)  2359808     ['activation_654[0][0]']         \n",
            "                                                                                                  \n",
            " batch_normalization_655 (Batch  (None, 64, 64, 512)  2048       ['conv2d_692[0][0]']             \n",
            " Normalization)                                                                                   \n",
            "                                                                                                  \n",
            " activation_655 (Activation)    (None, 64, 64, 512)  0           ['batch_normalization_655[0][0]']\n",
            "                                                                                                  \n",
            " max_pooling2d_150 (MaxPooling2  (None, 32, 32, 512)  0          ['activation_655[0][0]']         \n",
            " D)                                                                                               \n",
            "                                                                                                  \n",
            " conv2d_693 (Conv2D)            (None, 32, 32, 1024  4719616     ['max_pooling2d_150[0][0]']      \n",
            "                                )                                                                 \n",
            "                                                                                                  \n",
            " batch_normalization_656 (Batch  (None, 32, 32, 1024  4096       ['conv2d_693[0][0]']             \n",
            " Normalization)                 )                                                                 \n",
            "                                                                                                  \n",
            " activation_656 (Activation)    (None, 32, 32, 1024  0           ['batch_normalization_656[0][0]']\n",
            "                                )                                                                 \n",
            "                                                                                                  \n",
            " conv2d_694 (Conv2D)            (None, 32, 32, 1024  9438208     ['activation_656[0][0]']         \n",
            "                                )                                                                 \n",
            "                                                                                                  \n",
            " batch_normalization_657 (Batch  (None, 32, 32, 1024  4096       ['conv2d_694[0][0]']             \n",
            " Normalization)                 )                                                                 \n",
            "                                                                                                  \n",
            " activation_657 (Activation)    (None, 32, 32, 1024  0           ['batch_normalization_657[0][0]']\n",
            "                                )                                                                 \n",
            "                                                                                                  \n",
            " conv2d_transpose_140 (Conv2DTr  (None, 64, 64, 512)  2097664    ['activation_657[0][0]']         \n",
            " anspose)                                                                                         \n",
            "                                                                                                  \n",
            " concatenate_140 (Concatenate)  (None, 64, 64, 1024  0           ['conv2d_transpose_140[0][0]',   \n",
            "                                )                                 'activation_655[0][0]']         \n",
            "                                                                                                  \n",
            " conv2d_695 (Conv2D)            (None, 64, 64, 512)  4719104     ['concatenate_140[0][0]']        \n",
            "                                                                                                  \n",
            " batch_normalization_658 (Batch  (None, 64, 64, 512)  2048       ['conv2d_695[0][0]']             \n",
            " Normalization)                                                                                   \n",
            "                                                                                                  \n",
            " activation_658 (Activation)    (None, 64, 64, 512)  0           ['batch_normalization_658[0][0]']\n",
            "                                                                                                  \n",
            " conv2d_696 (Conv2D)            (None, 64, 64, 512)  2359808     ['activation_658[0][0]']         \n",
            "                                                                                                  \n",
            " batch_normalization_659 (Batch  (None, 64, 64, 512)  2048       ['conv2d_696[0][0]']             \n",
            " Normalization)                                                                                   \n",
            "                                                                                                  \n",
            " activation_659 (Activation)    (None, 64, 64, 512)  0           ['batch_normalization_659[0][0]']\n",
            "                                                                                                  \n",
            " conv2d_transpose_141 (Conv2DTr  (None, 128, 128, 25  524544     ['activation_659[0][0]']         \n",
            " anspose)                       6)                                                                \n",
            "                                                                                                  \n",
            " concatenate_141 (Concatenate)  (None, 128, 128, 51  0           ['conv2d_transpose_141[0][0]',   \n",
            "                                2)                                'activation_653[0][0]']         \n",
            "                                                                                                  \n",
            " conv2d_697 (Conv2D)            (None, 128, 128, 25  1179904     ['concatenate_141[0][0]']        \n",
            "                                6)                                                                \n",
            "                                                                                                  \n",
            " batch_normalization_660 (Batch  (None, 128, 128, 25  1024       ['conv2d_697[0][0]']             \n",
            " Normalization)                 6)                                                                \n",
            "                                                                                                  \n",
            " activation_660 (Activation)    (None, 128, 128, 25  0           ['batch_normalization_660[0][0]']\n",
            "                                6)                                                                \n",
            "                                                                                                  \n",
            " conv2d_698 (Conv2D)            (None, 128, 128, 25  590080      ['activation_660[0][0]']         \n",
            "                                6)                                                                \n",
            "                                                                                                  \n",
            " batch_normalization_661 (Batch  (None, 128, 128, 25  1024       ['conv2d_698[0][0]']             \n",
            " Normalization)                 6)                                                                \n",
            "                                                                                                  \n",
            " activation_661 (Activation)    (None, 128, 128, 25  0           ['batch_normalization_661[0][0]']\n",
            "                                6)                                                                \n",
            "                                                                                                  \n",
            " conv2d_transpose_142 (Conv2DTr  (None, 256, 256, 12  131200     ['activation_661[0][0]']         \n",
            " anspose)                       8)                                                                \n",
            "                                                                                                  \n",
            " concatenate_142 (Concatenate)  (None, 256, 256, 25  0           ['conv2d_transpose_142[0][0]',   \n",
            "                                6)                                'activation_651[0][0]']         \n",
            "                                                                                                  \n",
            " conv2d_699 (Conv2D)            (None, 256, 256, 12  295040      ['concatenate_142[0][0]']        \n",
            "                                8)                                                                \n",
            "                                                                                                  \n",
            " batch_normalization_662 (Batch  (None, 256, 256, 12  512        ['conv2d_699[0][0]']             \n",
            " Normalization)                 8)                                                                \n",
            "                                                                                                  \n",
            " activation_662 (Activation)    (None, 256, 256, 12  0           ['batch_normalization_662[0][0]']\n",
            "                                8)                                                                \n",
            "                                                                                                  \n",
            " conv2d_700 (Conv2D)            (None, 256, 256, 12  147584      ['activation_662[0][0]']         \n",
            "                                8)                                                                \n",
            "                                                                                                  \n",
            " batch_normalization_663 (Batch  (None, 256, 256, 12  512        ['conv2d_700[0][0]']             \n",
            " Normalization)                 8)                                                                \n",
            "                                                                                                  \n",
            " activation_663 (Activation)    (None, 256, 256, 12  0           ['batch_normalization_663[0][0]']\n",
            "                                8)                                                                \n",
            "                                                                                                  \n",
            " conv2d_transpose_143 (Conv2DTr  (None, 512, 512, 64  32832      ['activation_663[0][0]']         \n",
            " anspose)                       )                                                                 \n",
            "                                                                                                  \n",
            " concatenate_143 (Concatenate)  (None, 512, 512, 12  0           ['conv2d_transpose_143[0][0]',   \n",
            "                                8)                                'activation_649[0][0]']         \n",
            "                                                                                                  \n",
            " conv2d_701 (Conv2D)            (None, 512, 512, 64  73792       ['concatenate_143[0][0]']        \n",
            "                                )                                                                 \n",
            "                                                                                                  \n",
            " batch_normalization_664 (Batch  (None, 512, 512, 64  256        ['conv2d_701[0][0]']             \n",
            " Normalization)                 )                                                                 \n",
            "                                                                                                  \n",
            " activation_664 (Activation)    (None, 512, 512, 64  0           ['batch_normalization_664[0][0]']\n",
            "                                )                                                                 \n",
            "                                                                                                  \n",
            " conv2d_702 (Conv2D)            (None, 512, 512, 64  36928       ['activation_664[0][0]']         \n",
            "                                )                                                                 \n",
            "                                                                                                  \n",
            " batch_normalization_665 (Batch  (None, 512, 512, 64  256        ['conv2d_702[0][0]']             \n",
            " Normalization)                 )                                                                 \n",
            "                                                                                                  \n",
            " activation_665 (Activation)    (None, 512, 512, 64  0           ['batch_normalization_665[0][0]']\n",
            "                                )                                                                 \n",
            "                                                                                                  \n",
            " conv2d_703 (Conv2D)            (None, 512, 512, 1)  65          ['activation_665[0][0]']         \n",
            "                                                                                                  \n",
            "==================================================================================================\n",
            "Total params: 31,055,297\n",
            "Trainable params: 31,043,521\n",
            "Non-trainable params: 11,776\n",
            "__________________________________________________________________________________________________\n"
          ]
        }
      ]
    },
    {
      "cell_type": "code",
      "source": [],
      "metadata": {
        "id": "hy_k7OpVVQf1"
      },
      "execution_count": null,
      "outputs": []
    },
    {
      "cell_type": "markdown",
      "source": [
        "# Przygotowanie danych do uczenia"
      ],
      "metadata": {
        "id": "VQxdNwQNZPA9"
      }
    },
    {
      "cell_type": "markdown",
      "source": [
        "Deklaracja funckji odpowiadających za wczytywanie obrazów do uczenia modelu."
      ],
      "metadata": {
        "id": "tkUgCdLXJt3c"
      }
    },
    {
      "cell_type": "code",
      "source": [
        "import os\n",
        "os.environ[\"TF_CPP_MIN_LOG_LEVEL\"] = \"2\"\n",
        "import numpy as np\n",
        "import cv2\n",
        "from glob import glob\n",
        "from sklearn.utils import shuffle\n",
        "import tensorflow as tf\n",
        "from tensorflow.keras.callbacks import ModelCheckpoint, CSVLogger, ReduceLROnPlateau, EarlyStopping, TensorBoard\n",
        "from tensorflow.keras.optimizers import Adam\n",
        "from tensorflow.keras.metrics import Recall, Precision\n",
        "\n",
        "H = 512\n",
        "W = 512\n",
        "\n",
        "def create_dir(path):\n",
        "  if not os.path.exists(path):\n",
        "    os.makedirs(path)\n",
        "def load_data(path):\n",
        "  x=sorted(glob(os.path.join(path, \"image\", \"*.jpg\")))\n",
        "  y=sorted(glob(os.path.join(path, \"1st\", \"*.png\")))\n",
        "  return x,y\n",
        "def shuffling(x,y):\n",
        "  x,y =shuffle(x,y, random_state=42)\n",
        "  return x,y\n",
        "def read_image(path):\n",
        "  path = path.decode()\n",
        "  x = cv2.imread(path,cv2.IMREAD_COLOR)\n",
        "  x = x/255.0\n",
        "  x = x.astype(np.float32)\n",
        "  return x\n",
        "def read_mask(path):\n",
        "  path = path.decode()\n",
        "  x = cv2.imread(path,cv2.IMREAD_GRAYSCALE)\n",
        "  x = x/255.0\n",
        "  x = x.astype(np.float32)\n",
        "  x = np.expand_dims(x, axis=-1)\n",
        "  return x\n",
        "\n",
        "def tf_parse(x, y):\n",
        "    def _parse(x, y):\n",
        "        x = read_image(x)\n",
        "        y = read_mask(y)\n",
        "        return x, y\n",
        "\n",
        "    x, y = tf.numpy_function(_parse, [x, y], [tf.float32, tf.float32])\n",
        "    x.set_shape([H, W, 3])\n",
        "    y.set_shape([H, W, 1])\n",
        "    return x, y\n",
        "\n",
        "def tf_dataset(X, Y, batch_size=2):\n",
        "    dataset = tf.data.Dataset.from_tensor_slices((X, Y))\n",
        "    dataset = dataset.map(tf_parse)\n",
        "    dataset = dataset.batch(batch_size)\n",
        "    dataset = dataset.prefetch(4)\n",
        "    return dataset\n",
        "\n"
      ],
      "metadata": {
        "id": "Aw4Pdx-HZWUZ"
      },
      "execution_count": null,
      "outputs": []
    },
    {
      "cell_type": "code",
      "source": [
        "np.random.seed(42)\n",
        "tf.random.set_seed(42)\n",
        "\n",
        "create_dir(\"/content/drive/MyDrive/Informatyka w medycynie/files\")\n"
      ],
      "metadata": {
        "id": "FWQTMM_KbVRS"
      },
      "execution_count": null,
      "outputs": []
    },
    {
      "cell_type": "markdown",
      "source": [
        "Tworzenie folderów do zapisywania danych generowanych podczas uczenia modelu, deklaracja głównych parametrów(batch size, lr, num_epochs)"
      ],
      "metadata": {
        "id": "gXbr9lciJzJs"
      }
    },
    {
      "cell_type": "code",
      "source": [
        "batch_size =2\n",
        "lr = 1e-4\n",
        "num_epochs = 40\n",
        "model_path = os.path.join(\"/content/drive/MyDrive/Informatyka w medycynie/files\", \"model.h5\")\n",
        "csv_path = os.path.join(\"/content/drive/MyDrive/Informatyka w medycynie/files\", \"data.csv\")"
      ],
      "metadata": {
        "id": "D9gGGD13ctXz"
      },
      "execution_count": null,
      "outputs": []
    },
    {
      "cell_type": "code",
      "source": [
        "dataset_path = \"/content/drive/MyDrive/Informatyka w medycynie/new_data\"\n",
        "train_path = os.path.join(dataset_path,\"training\")\n",
        "valid_path = os.path.join(dataset_path,\"test\")\n"
      ],
      "metadata": {
        "id": "jjITuUVTdRCR"
      },
      "execution_count": null,
      "outputs": []
    },
    {
      "cell_type": "markdown",
      "source": [
        "Wczytywanie danych"
      ],
      "metadata": {
        "id": "qQ_h3BcsKMVK"
      }
    },
    {
      "cell_type": "code",
      "source": [
        "train_x, train_y = load_data(train_path)\n",
        "train_x, train_y = shuffling(train_x, train_y)\n",
        "valid_x, valid_y = load_data(valid_path)\n",
        "\n",
        "print(f\"Train {len(train_x)}-{len(train_y)}\")\n",
        "print(f\"Valid {len(valid_x)}-{len(valid_y)}\")\n"
      ],
      "metadata": {
        "colab": {
          "base_uri": "https://localhost:8080/"
        },
        "id": "ei8cD3OtfCsz",
        "outputId": "4beed2cc-b0cd-4b22-b31b-38933cc1d2cb"
      },
      "execution_count": null,
      "outputs": [
        {
          "output_type": "stream",
          "name": "stdout",
          "text": [
            "Train 70-70\n",
            "Valid 14-14\n"
          ]
        }
      ]
    },
    {
      "cell_type": "code",
      "source": [
        "train_dataset = tf_dataset(train_x, train_y, batch_size=batch_size)\n",
        "valid_dataset = tf_dataset(valid_x, valid_y, batch_size=batch_size)\n"
      ],
      "metadata": {
        "id": "8flEneaNhDTR"
      },
      "execution_count": null,
      "outputs": []
    },
    {
      "cell_type": "markdown",
      "source": [
        "Obliczanie ile króków będzie w każdej epok(epoch)"
      ],
      "metadata": {
        "id": "GRGuAfP0KS63"
      }
    },
    {
      "cell_type": "code",
      "source": [
        "train_steps = len(train_x)//batch_size\n",
        "valid_steps = len(valid_x)//batch_size\n",
        "\n",
        "if len(train_x) % batch_size !=0:\n",
        "  train_steps+=1\n",
        "\n",
        "if len(valid_x) % batch_size !=0:\n",
        "  valid_steps+=1"
      ],
      "metadata": {
        "id": "w85RpgTuolHC"
      },
      "execution_count": null,
      "outputs": []
    },
    {
      "cell_type": "markdown",
      "source": [
        "# Model"
      ],
      "metadata": {
        "id": "-ZHsdKk3peCC"
      }
    },
    {
      "cell_type": "markdown",
      "source": [
        "Tworzenie modelu"
      ],
      "metadata": {
        "id": "IhsNttBLKmHI"
      }
    },
    {
      "cell_type": "code",
      "source": [
        "model = build_unet((H, W, 3))\n",
        "model.compile(loss=dice_loss, optimizer=Adam(lr), metrics=[dice_coef, iou, Recall(), Precision()])\n",
        "model.summary()"
      ],
      "metadata": {
        "colab": {
          "base_uri": "https://localhost:8080/"
        },
        "id": "DC5wTYSSpk6e",
        "outputId": "d1ddf34b-ebd1-4f0c-ca19-2cc7e9ed87ae"
      },
      "execution_count": null,
      "outputs": [
        {
          "output_type": "stream",
          "name": "stdout",
          "text": [
            "Model: \"UNET\"\n",
            "__________________________________________________________________________________________________\n",
            " Layer (type)                   Output Shape         Param #     Connected to                     \n",
            "==================================================================================================\n",
            " input_41 (InputLayer)          [(None, 512, 512, 3  0           []                               \n",
            "                                )]                                                                \n",
            "                                                                                                  \n",
            " conv2d_704 (Conv2D)            (None, 512, 512, 64  1792        ['input_41[0][0]']               \n",
            "                                )                                                                 \n",
            "                                                                                                  \n",
            " batch_normalization_666 (Batch  (None, 512, 512, 64  256        ['conv2d_704[0][0]']             \n",
            " Normalization)                 )                                                                 \n",
            "                                                                                                  \n",
            " activation_666 (Activation)    (None, 512, 512, 64  0           ['batch_normalization_666[0][0]']\n",
            "                                )                                                                 \n",
            "                                                                                                  \n",
            " conv2d_705 (Conv2D)            (None, 512, 512, 64  36928       ['activation_666[0][0]']         \n",
            "                                )                                                                 \n",
            "                                                                                                  \n",
            " batch_normalization_667 (Batch  (None, 512, 512, 64  256        ['conv2d_705[0][0]']             \n",
            " Normalization)                 )                                                                 \n",
            "                                                                                                  \n",
            " activation_667 (Activation)    (None, 512, 512, 64  0           ['batch_normalization_667[0][0]']\n",
            "                                )                                                                 \n",
            "                                                                                                  \n",
            " max_pooling2d_151 (MaxPooling2  (None, 256, 256, 64  0          ['activation_667[0][0]']         \n",
            " D)                             )                                                                 \n",
            "                                                                                                  \n",
            " conv2d_706 (Conv2D)            (None, 256, 256, 12  73856       ['max_pooling2d_151[0][0]']      \n",
            "                                8)                                                                \n",
            "                                                                                                  \n",
            " batch_normalization_668 (Batch  (None, 256, 256, 12  512        ['conv2d_706[0][0]']             \n",
            " Normalization)                 8)                                                                \n",
            "                                                                                                  \n",
            " activation_668 (Activation)    (None, 256, 256, 12  0           ['batch_normalization_668[0][0]']\n",
            "                                8)                                                                \n",
            "                                                                                                  \n",
            " conv2d_707 (Conv2D)            (None, 256, 256, 12  147584      ['activation_668[0][0]']         \n",
            "                                8)                                                                \n",
            "                                                                                                  \n",
            " batch_normalization_669 (Batch  (None, 256, 256, 12  512        ['conv2d_707[0][0]']             \n",
            " Normalization)                 8)                                                                \n",
            "                                                                                                  \n",
            " activation_669 (Activation)    (None, 256, 256, 12  0           ['batch_normalization_669[0][0]']\n",
            "                                8)                                                                \n",
            "                                                                                                  \n",
            " max_pooling2d_152 (MaxPooling2  (None, 128, 128, 12  0          ['activation_669[0][0]']         \n",
            " D)                             8)                                                                \n",
            "                                                                                                  \n",
            " conv2d_708 (Conv2D)            (None, 128, 128, 25  295168      ['max_pooling2d_152[0][0]']      \n",
            "                                6)                                                                \n",
            "                                                                                                  \n",
            " batch_normalization_670 (Batch  (None, 128, 128, 25  1024       ['conv2d_708[0][0]']             \n",
            " Normalization)                 6)                                                                \n",
            "                                                                                                  \n",
            " activation_670 (Activation)    (None, 128, 128, 25  0           ['batch_normalization_670[0][0]']\n",
            "                                6)                                                                \n",
            "                                                                                                  \n",
            " conv2d_709 (Conv2D)            (None, 128, 128, 25  590080      ['activation_670[0][0]']         \n",
            "                                6)                                                                \n",
            "                                                                                                  \n",
            " batch_normalization_671 (Batch  (None, 128, 128, 25  1024       ['conv2d_709[0][0]']             \n",
            " Normalization)                 6)                                                                \n",
            "                                                                                                  \n",
            " activation_671 (Activation)    (None, 128, 128, 25  0           ['batch_normalization_671[0][0]']\n",
            "                                6)                                                                \n",
            "                                                                                                  \n",
            " max_pooling2d_153 (MaxPooling2  (None, 64, 64, 256)  0          ['activation_671[0][0]']         \n",
            " D)                                                                                               \n",
            "                                                                                                  \n",
            " conv2d_710 (Conv2D)            (None, 64, 64, 512)  1180160     ['max_pooling2d_153[0][0]']      \n",
            "                                                                                                  \n",
            " batch_normalization_672 (Batch  (None, 64, 64, 512)  2048       ['conv2d_710[0][0]']             \n",
            " Normalization)                                                                                   \n",
            "                                                                                                  \n",
            " activation_672 (Activation)    (None, 64, 64, 512)  0           ['batch_normalization_672[0][0]']\n",
            "                                                                                                  \n",
            " conv2d_711 (Conv2D)            (None, 64, 64, 512)  2359808     ['activation_672[0][0]']         \n",
            "                                                                                                  \n",
            " batch_normalization_673 (Batch  (None, 64, 64, 512)  2048       ['conv2d_711[0][0]']             \n",
            " Normalization)                                                                                   \n",
            "                                                                                                  \n",
            " activation_673 (Activation)    (None, 64, 64, 512)  0           ['batch_normalization_673[0][0]']\n",
            "                                                                                                  \n",
            " max_pooling2d_154 (MaxPooling2  (None, 32, 32, 512)  0          ['activation_673[0][0]']         \n",
            " D)                                                                                               \n",
            "                                                                                                  \n",
            " conv2d_712 (Conv2D)            (None, 32, 32, 1024  4719616     ['max_pooling2d_154[0][0]']      \n",
            "                                )                                                                 \n",
            "                                                                                                  \n",
            " batch_normalization_674 (Batch  (None, 32, 32, 1024  4096       ['conv2d_712[0][0]']             \n",
            " Normalization)                 )                                                                 \n",
            "                                                                                                  \n",
            " activation_674 (Activation)    (None, 32, 32, 1024  0           ['batch_normalization_674[0][0]']\n",
            "                                )                                                                 \n",
            "                                                                                                  \n",
            " conv2d_713 (Conv2D)            (None, 32, 32, 1024  9438208     ['activation_674[0][0]']         \n",
            "                                )                                                                 \n",
            "                                                                                                  \n",
            " batch_normalization_675 (Batch  (None, 32, 32, 1024  4096       ['conv2d_713[0][0]']             \n",
            " Normalization)                 )                                                                 \n",
            "                                                                                                  \n",
            " activation_675 (Activation)    (None, 32, 32, 1024  0           ['batch_normalization_675[0][0]']\n",
            "                                )                                                                 \n",
            "                                                                                                  \n",
            " conv2d_transpose_144 (Conv2DTr  (None, 64, 64, 512)  2097664    ['activation_675[0][0]']         \n",
            " anspose)                                                                                         \n",
            "                                                                                                  \n",
            " concatenate_144 (Concatenate)  (None, 64, 64, 1024  0           ['conv2d_transpose_144[0][0]',   \n",
            "                                )                                 'activation_673[0][0]']         \n",
            "                                                                                                  \n",
            " conv2d_714 (Conv2D)            (None, 64, 64, 512)  4719104     ['concatenate_144[0][0]']        \n",
            "                                                                                                  \n",
            " batch_normalization_676 (Batch  (None, 64, 64, 512)  2048       ['conv2d_714[0][0]']             \n",
            " Normalization)                                                                                   \n",
            "                                                                                                  \n",
            " activation_676 (Activation)    (None, 64, 64, 512)  0           ['batch_normalization_676[0][0]']\n",
            "                                                                                                  \n",
            " conv2d_715 (Conv2D)            (None, 64, 64, 512)  2359808     ['activation_676[0][0]']         \n",
            "                                                                                                  \n",
            " batch_normalization_677 (Batch  (None, 64, 64, 512)  2048       ['conv2d_715[0][0]']             \n",
            " Normalization)                                                                                   \n",
            "                                                                                                  \n",
            " activation_677 (Activation)    (None, 64, 64, 512)  0           ['batch_normalization_677[0][0]']\n",
            "                                                                                                  \n",
            " conv2d_transpose_145 (Conv2DTr  (None, 128, 128, 25  524544     ['activation_677[0][0]']         \n",
            " anspose)                       6)                                                                \n",
            "                                                                                                  \n",
            " concatenate_145 (Concatenate)  (None, 128, 128, 51  0           ['conv2d_transpose_145[0][0]',   \n",
            "                                2)                                'activation_671[0][0]']         \n",
            "                                                                                                  \n",
            " conv2d_716 (Conv2D)            (None, 128, 128, 25  1179904     ['concatenate_145[0][0]']        \n",
            "                                6)                                                                \n",
            "                                                                                                  \n",
            " batch_normalization_678 (Batch  (None, 128, 128, 25  1024       ['conv2d_716[0][0]']             \n",
            " Normalization)                 6)                                                                \n",
            "                                                                                                  \n",
            " activation_678 (Activation)    (None, 128, 128, 25  0           ['batch_normalization_678[0][0]']\n",
            "                                6)                                                                \n",
            "                                                                                                  \n",
            " conv2d_717 (Conv2D)            (None, 128, 128, 25  590080      ['activation_678[0][0]']         \n",
            "                                6)                                                                \n",
            "                                                                                                  \n",
            " batch_normalization_679 (Batch  (None, 128, 128, 25  1024       ['conv2d_717[0][0]']             \n",
            " Normalization)                 6)                                                                \n",
            "                                                                                                  \n",
            " activation_679 (Activation)    (None, 128, 128, 25  0           ['batch_normalization_679[0][0]']\n",
            "                                6)                                                                \n",
            "                                                                                                  \n",
            " conv2d_transpose_146 (Conv2DTr  (None, 256, 256, 12  131200     ['activation_679[0][0]']         \n",
            " anspose)                       8)                                                                \n",
            "                                                                                                  \n",
            " concatenate_146 (Concatenate)  (None, 256, 256, 25  0           ['conv2d_transpose_146[0][0]',   \n",
            "                                6)                                'activation_669[0][0]']         \n",
            "                                                                                                  \n",
            " conv2d_718 (Conv2D)            (None, 256, 256, 12  295040      ['concatenate_146[0][0]']        \n",
            "                                8)                                                                \n",
            "                                                                                                  \n",
            " batch_normalization_680 (Batch  (None, 256, 256, 12  512        ['conv2d_718[0][0]']             \n",
            " Normalization)                 8)                                                                \n",
            "                                                                                                  \n",
            " activation_680 (Activation)    (None, 256, 256, 12  0           ['batch_normalization_680[0][0]']\n",
            "                                8)                                                                \n",
            "                                                                                                  \n",
            " conv2d_719 (Conv2D)            (None, 256, 256, 12  147584      ['activation_680[0][0]']         \n",
            "                                8)                                                                \n",
            "                                                                                                  \n",
            " batch_normalization_681 (Batch  (None, 256, 256, 12  512        ['conv2d_719[0][0]']             \n",
            " Normalization)                 8)                                                                \n",
            "                                                                                                  \n",
            " activation_681 (Activation)    (None, 256, 256, 12  0           ['batch_normalization_681[0][0]']\n",
            "                                8)                                                                \n",
            "                                                                                                  \n",
            " conv2d_transpose_147 (Conv2DTr  (None, 512, 512, 64  32832      ['activation_681[0][0]']         \n",
            " anspose)                       )                                                                 \n",
            "                                                                                                  \n",
            " concatenate_147 (Concatenate)  (None, 512, 512, 12  0           ['conv2d_transpose_147[0][0]',   \n",
            "                                8)                                'activation_667[0][0]']         \n",
            "                                                                                                  \n",
            " conv2d_720 (Conv2D)            (None, 512, 512, 64  73792       ['concatenate_147[0][0]']        \n",
            "                                )                                                                 \n",
            "                                                                                                  \n",
            " batch_normalization_682 (Batch  (None, 512, 512, 64  256        ['conv2d_720[0][0]']             \n",
            " Normalization)                 )                                                                 \n",
            "                                                                                                  \n",
            " activation_682 (Activation)    (None, 512, 512, 64  0           ['batch_normalization_682[0][0]']\n",
            "                                )                                                                 \n",
            "                                                                                                  \n",
            " conv2d_721 (Conv2D)            (None, 512, 512, 64  36928       ['activation_682[0][0]']         \n",
            "                                )                                                                 \n",
            "                                                                                                  \n",
            " batch_normalization_683 (Batch  (None, 512, 512, 64  256        ['conv2d_721[0][0]']             \n",
            " Normalization)                 )                                                                 \n",
            "                                                                                                  \n",
            " activation_683 (Activation)    (None, 512, 512, 64  0           ['batch_normalization_683[0][0]']\n",
            "                                )                                                                 \n",
            "                                                                                                  \n",
            " conv2d_722 (Conv2D)            (None, 512, 512, 1)  65          ['activation_683[0][0]']         \n",
            "                                                                                                  \n",
            "==================================================================================================\n",
            "Total params: 31,055,297\n",
            "Trainable params: 31,043,521\n",
            "Non-trainable params: 11,776\n",
            "__________________________________________________________________________________________________\n"
          ]
        }
      ]
    },
    {
      "cell_type": "markdown",
      "source": [
        "Deklaracja czynności do wykonania po kązdej epoce: obliczanie funckji straty(val_loss), zapisywanie danych do pliku csv, aktywowanie ,,early stopping'' który odpowiada za przerwanie jeżeli podczas uczenia nie widać już poprawy"
      ],
      "metadata": {
        "id": "l8QMvDazLNOy"
      }
    },
    {
      "cell_type": "code",
      "source": [
        "callbacks = [\n",
        "        ModelCheckpoint(model_path, verbose=1, save_best_only=True),\n",
        "        ReduceLROnPlateau(monitor=\"val_loss\", factor=0.1, patience=5, min_lr=1e-6, verbose=1),\n",
        "        CSVLogger(csv_path),\n",
        "        TensorBoard(),\n",
        "        EarlyStopping(monitor=\"val_loss\", patience=10, restore_best_weights=False)\n",
        "    ]"
      ],
      "metadata": {
        "id": "p5Qvo6vLYVY_"
      },
      "execution_count": null,
      "outputs": []
    },
    {
      "cell_type": "code",
      "source": [
        "model.fit(\n",
        "        train_dataset,\n",
        "        epochs=num_epochs,\n",
        "        validation_data=valid_dataset,\n",
        "        steps_per_epoch=train_steps,\n",
        "        validation_steps=valid_steps,\n",
        "        callbacks=callbacks\n",
        "    )"
      ],
      "metadata": {
        "colab": {
          "base_uri": "https://localhost:8080/"
        },
        "id": "ZLUjRneGeCYJ",
        "outputId": "3bd0a567-e20b-44ae-88b6-663573f93e41"
      },
      "execution_count": null,
      "outputs": [
        {
          "output_type": "stream",
          "name": "stdout",
          "text": [
            "Epoch 1/40\n",
            "35/35 [==============================] - ETA: 0s - loss: 0.7780 - dice_coef: 0.2220 - iou: 0.1261 - recall_13: 0.8254 - precision_11: 0.1673\n",
            "Epoch 1: val_loss improved from inf to 0.86648, saving model to /content/drive/MyDrive/Informatyka w medycynie/files/model.h5\n",
            "35/35 [==============================] - 32s 830ms/step - loss: 0.7780 - dice_coef: 0.2220 - iou: 0.1261 - recall_13: 0.8254 - precision_11: 0.1673 - val_loss: 0.8665 - val_dice_coef: 0.1335 - val_iou: 0.0715 - val_recall_13: 0.6298 - val_precision_11: 0.0792 - lr: 1.0000e-04\n",
            "Epoch 2/40\n",
            "35/35 [==============================] - ETA: 0s - loss: 0.6155 - dice_coef: 0.3845 - iou: 0.2389 - recall_13: 0.7521 - precision_11: 0.4773\n",
            "Epoch 2: val_loss did not improve from 0.86648\n",
            "35/35 [==============================] - 21s 585ms/step - loss: 0.6155 - dice_coef: 0.3845 - iou: 0.2389 - recall_13: 0.7521 - precision_11: 0.4773 - val_loss: 0.8695 - val_dice_coef: 0.1305 - val_iou: 0.0698 - val_recall_13: 0.0000e+00 - val_precision_11: 0.0000e+00 - lr: 1.0000e-04\n",
            "Epoch 3/40\n",
            "35/35 [==============================] - ETA: 0s - loss: 0.5378 - dice_coef: 0.4622 - iou: 0.3011 - recall_13: 0.7548 - precision_11: 0.6149\n",
            "Epoch 3: val_loss did not improve from 0.86648\n",
            "35/35 [==============================] - 21s 601ms/step - loss: 0.5378 - dice_coef: 0.4622 - iou: 0.3011 - recall_13: 0.7548 - precision_11: 0.6149 - val_loss: 0.8797 - val_dice_coef: 0.1203 - val_iou: 0.0640 - val_recall_13: 0.0000e+00 - val_precision_11: 0.0000e+00 - lr: 1.0000e-04\n",
            "Epoch 4/40\n",
            "35/35 [==============================] - ETA: 0s - loss: 0.4912 - dice_coef: 0.5088 - iou: 0.3416 - recall_13: 0.7696 - precision_11: 0.6807\n",
            "Epoch 4: val_loss did not improve from 0.86648\n",
            "35/35 [==============================] - 20s 584ms/step - loss: 0.4912 - dice_coef: 0.5088 - iou: 0.3416 - recall_13: 0.7696 - precision_11: 0.6807 - val_loss: 0.8937 - val_dice_coef: 0.1063 - val_iou: 0.0561 - val_recall_13: 0.0000e+00 - val_precision_11: 0.0000e+00 - lr: 1.0000e-04\n",
            "Epoch 5/40\n",
            "35/35 [==============================] - ETA: 0s - loss: 0.4568 - dice_coef: 0.5432 - iou: 0.3733 - recall_13: 0.7762 - precision_11: 0.7249\n",
            "Epoch 5: val_loss did not improve from 0.86648\n",
            "35/35 [==============================] - 20s 568ms/step - loss: 0.4568 - dice_coef: 0.5432 - iou: 0.3733 - recall_13: 0.7762 - precision_11: 0.7249 - val_loss: 0.9078 - val_dice_coef: 0.0922 - val_iou: 0.0483 - val_recall_13: 0.0000e+00 - val_precision_11: 0.0000e+00 - lr: 1.0000e-04\n",
            "Epoch 6/40\n",
            "35/35 [==============================] - ETA: 0s - loss: 0.4268 - dice_coef: 0.5732 - iou: 0.4022 - recall_13: 0.7820 - precision_11: 0.7603\n",
            "Epoch 6: val_loss did not improve from 0.86648\n",
            "\n",
            "Epoch 6: ReduceLROnPlateau reducing learning rate to 9.999999747378752e-06.\n",
            "35/35 [==============================] - 22s 627ms/step - loss: 0.4268 - dice_coef: 0.5732 - iou: 0.4022 - recall_13: 0.7820 - precision_11: 0.7603 - val_loss: 0.9217 - val_dice_coef: 0.0783 - val_iou: 0.0407 - val_recall_13: 3.7987e-05 - val_precision_11: 0.7222 - lr: 1.0000e-04\n",
            "Epoch 7/40\n",
            "35/35 [==============================] - ETA: 0s - loss: 0.4067 - dice_coef: 0.5933 - iou: 0.4222 - recall_13: 0.7909 - precision_11: 0.7833\n",
            "Epoch 7: val_loss did not improve from 0.86648\n",
            "35/35 [==============================] - 20s 561ms/step - loss: 0.4067 - dice_coef: 0.5933 - iou: 0.4222 - recall_13: 0.7909 - precision_11: 0.7833 - val_loss: 0.9285 - val_dice_coef: 0.0715 - val_iou: 0.0371 - val_recall_13: 0.0012 - val_precision_11: 0.0579 - lr: 1.0000e-05\n",
            "Epoch 8/40\n",
            "35/35 [==============================] - ETA: 0s - loss: 0.3981 - dice_coef: 0.6019 - iou: 0.4309 - recall_13: 0.7976 - precision_11: 0.7970\n",
            "Epoch 8: val_loss did not improve from 0.86648\n",
            "35/35 [==============================] - 21s 590ms/step - loss: 0.3981 - dice_coef: 0.6019 - iou: 0.4309 - recall_13: 0.7976 - precision_11: 0.7970 - val_loss: 0.9254 - val_dice_coef: 0.0746 - val_iou: 0.0387 - val_recall_13: 0.0062 - val_precision_11: 0.1015 - lr: 1.0000e-05\n",
            "Epoch 9/40\n",
            "35/35 [==============================] - ETA: 0s - loss: 0.3918 - dice_coef: 0.6082 - iou: 0.4374 - recall_13: 0.8021 - precision_11: 0.8068\n",
            "Epoch 9: val_loss did not improve from 0.86648\n",
            "35/35 [==============================] - 20s 564ms/step - loss: 0.3918 - dice_coef: 0.6082 - iou: 0.4374 - recall_13: 0.8021 - precision_11: 0.8068 - val_loss: 0.9016 - val_dice_coef: 0.0984 - val_iou: 0.0518 - val_recall_13: 0.0260 - val_precision_11: 0.2009 - lr: 1.0000e-05\n",
            "Epoch 10/40\n",
            "35/35 [==============================] - ETA: 0s - loss: 0.3857 - dice_coef: 0.6143 - iou: 0.4438 - recall_13: 0.8064 - precision_11: 0.8164\n",
            "Epoch 10: val_loss improved from 0.86648 to 0.84774, saving model to /content/drive/MyDrive/Informatyka w medycynie/files/model.h5\n",
            "35/35 [==============================] - 25s 715ms/step - loss: 0.3857 - dice_coef: 0.6143 - iou: 0.4438 - recall_13: 0.8064 - precision_11: 0.8164 - val_loss: 0.8477 - val_dice_coef: 0.1523 - val_iou: 0.0825 - val_recall_13: 0.0748 - val_precision_11: 0.3410 - lr: 1.0000e-05\n",
            "Epoch 11/40\n",
            "35/35 [==============================] - ETA: 0s - loss: 0.3795 - dice_coef: 0.6205 - iou: 0.4503 - recall_13: 0.8106 - precision_11: 0.8263\n",
            "Epoch 11: val_loss improved from 0.84774 to 0.76983, saving model to /content/drive/MyDrive/Informatyka w medycynie/files/model.h5\n",
            "35/35 [==============================] - 23s 659ms/step - loss: 0.3795 - dice_coef: 0.6205 - iou: 0.4503 - recall_13: 0.8106 - precision_11: 0.8263 - val_loss: 0.7698 - val_dice_coef: 0.2302 - val_iou: 0.1304 - val_recall_13: 0.1572 - val_precision_11: 0.4585 - lr: 1.0000e-05\n",
            "Epoch 12/40\n",
            "35/35 [==============================] - ETA: 0s - loss: 0.3731 - dice_coef: 0.6269 - iou: 0.4571 - recall_13: 0.8148 - precision_11: 0.8368\n",
            "Epoch 12: val_loss improved from 0.76983 to 0.69096, saving model to /content/drive/MyDrive/Informatyka w medycynie/files/model.h5\n",
            "35/35 [==============================] - 24s 675ms/step - loss: 0.3731 - dice_coef: 0.6269 - iou: 0.4571 - recall_13: 0.8148 - precision_11: 0.8368 - val_loss: 0.6910 - val_dice_coef: 0.3090 - val_iou: 0.1833 - val_recall_13: 0.2499 - val_precision_11: 0.5463 - lr: 1.0000e-05\n",
            "Epoch 13/40\n",
            "35/35 [==============================] - ETA: 0s - loss: 0.3667 - dice_coef: 0.6333 - iou: 0.4639 - recall_13: 0.8187 - precision_11: 0.8477\n",
            "Epoch 13: val_loss improved from 0.69096 to 0.62168, saving model to /content/drive/MyDrive/Informatyka w medycynie/files/model.h5\n",
            "35/35 [==============================] - 23s 654ms/step - loss: 0.3667 - dice_coef: 0.6333 - iou: 0.4639 - recall_13: 0.8187 - precision_11: 0.8477 - val_loss: 0.6217 - val_dice_coef: 0.3783 - val_iou: 0.2339 - val_recall_13: 0.3376 - val_precision_11: 0.6119 - lr: 1.0000e-05\n",
            "Epoch 14/40\n",
            "35/35 [==============================] - ETA: 0s - loss: 0.3603 - dice_coef: 0.6397 - iou: 0.4708 - recall_13: 0.8220 - precision_11: 0.8585\n",
            "Epoch 14: val_loss improved from 0.62168 to 0.56034, saving model to /content/drive/MyDrive/Informatyka w medycynie/files/model.h5\n",
            "35/35 [==============================] - 23s 673ms/step - loss: 0.3603 - dice_coef: 0.6397 - iou: 0.4708 - recall_13: 0.8220 - precision_11: 0.8585 - val_loss: 0.5603 - val_dice_coef: 0.4397 - val_iou: 0.2824 - val_recall_13: 0.4097 - val_precision_11: 0.6993 - lr: 1.0000e-05\n",
            "Epoch 15/40\n",
            "35/35 [==============================] - ETA: 0s - loss: 0.3543 - dice_coef: 0.6457 - iou: 0.4774 - recall_13: 0.8251 - precision_11: 0.8691\n",
            "Epoch 15: val_loss improved from 0.56034 to 0.50186, saving model to /content/drive/MyDrive/Informatyka w medycynie/files/model.h5\n",
            "35/35 [==============================] - 25s 710ms/step - loss: 0.3543 - dice_coef: 0.6457 - iou: 0.4774 - recall_13: 0.8251 - precision_11: 0.8691 - val_loss: 0.5019 - val_dice_coef: 0.4981 - val_iou: 0.3322 - val_recall_13: 0.4708 - val_precision_11: 0.8077 - lr: 1.0000e-05\n",
            "Epoch 16/40\n",
            "35/35 [==============================] - ETA: 0s - loss: 0.3488 - dice_coef: 0.6512 - iou: 0.4833 - recall_13: 0.8276 - precision_11: 0.8781\n",
            "Epoch 16: val_loss improved from 0.50186 to 0.45570, saving model to /content/drive/MyDrive/Informatyka w medycynie/files/model.h5\n",
            "35/35 [==============================] - 24s 701ms/step - loss: 0.3488 - dice_coef: 0.6512 - iou: 0.4833 - recall_13: 0.8276 - precision_11: 0.8781 - val_loss: 0.4557 - val_dice_coef: 0.5443 - val_iou: 0.3743 - val_recall_13: 0.5163 - val_precision_11: 0.8901 - lr: 1.0000e-05\n",
            "Epoch 17/40\n",
            "35/35 [==============================] - ETA: 0s - loss: 0.3449 - dice_coef: 0.6551 - iou: 0.4876 - recall_13: 0.8284 - precision_11: 0.8835\n",
            "Epoch 17: val_loss improved from 0.45570 to 0.43069, saving model to /content/drive/MyDrive/Informatyka w medycynie/files/model.h5\n",
            "35/35 [==============================] - 23s 665ms/step - loss: 0.3449 - dice_coef: 0.6551 - iou: 0.4876 - recall_13: 0.8284 - precision_11: 0.8835 - val_loss: 0.4307 - val_dice_coef: 0.5693 - val_iou: 0.3983 - val_recall_13: 0.5489 - val_precision_11: 0.9045 - lr: 1.0000e-05\n",
            "Epoch 18/40\n",
            "35/35 [==============================] - ETA: 0s - loss: 0.3444 - dice_coef: 0.6556 - iou: 0.4882 - recall_13: 0.8273 - precision_11: 0.8806\n",
            "Epoch 18: val_loss improved from 0.43069 to 0.41066, saving model to /content/drive/MyDrive/Informatyka w medycynie/files/model.h5\n",
            "35/35 [==============================] - 23s 647ms/step - loss: 0.3444 - dice_coef: 0.6556 - iou: 0.4882 - recall_13: 0.8273 - precision_11: 0.8806 - val_loss: 0.4107 - val_dice_coef: 0.5893 - val_iou: 0.4181 - val_recall_13: 0.5884 - val_precision_11: 0.8916 - lr: 1.0000e-05\n",
            "Epoch 19/40\n",
            "35/35 [==============================] - ETA: 0s - loss: 0.3438 - dice_coef: 0.6562 - iou: 0.4889 - recall_13: 0.8269 - precision_11: 0.8772\n",
            "Epoch 19: val_loss improved from 0.41066 to 0.39295, saving model to /content/drive/MyDrive/Informatyka w medycynie/files/model.h5\n",
            "35/35 [==============================] - 25s 711ms/step - loss: 0.3438 - dice_coef: 0.6562 - iou: 0.4889 - recall_13: 0.8269 - precision_11: 0.8772 - val_loss: 0.3930 - val_dice_coef: 0.6070 - val_iou: 0.4361 - val_recall_13: 0.6243 - val_precision_11: 0.8831 - lr: 1.0000e-05\n",
            "Epoch 20/40\n",
            "35/35 [==============================] - ETA: 0s - loss: 0.3422 - dice_coef: 0.6578 - iou: 0.4906 - recall_13: 0.8246 - precision_11: 0.8788\n",
            "Epoch 20: val_loss did not improve from 0.39295\n",
            "35/35 [==============================] - 20s 578ms/step - loss: 0.3422 - dice_coef: 0.6578 - iou: 0.4906 - recall_13: 0.8246 - precision_11: 0.8788 - val_loss: 0.3966 - val_dice_coef: 0.6034 - val_iou: 0.4322 - val_recall_13: 0.6181 - val_precision_11: 0.8739 - lr: 1.0000e-05\n",
            "Epoch 21/40\n",
            "35/35 [==============================] - ETA: 0s - loss: 0.3405 - dice_coef: 0.6595 - iou: 0.4926 - recall_13: 0.8243 - precision_11: 0.8797\n",
            "Epoch 21: val_loss did not improve from 0.39295\n",
            "35/35 [==============================] - 20s 569ms/step - loss: 0.3405 - dice_coef: 0.6595 - iou: 0.4926 - recall_13: 0.8243 - precision_11: 0.8797 - val_loss: 0.3995 - val_dice_coef: 0.6005 - val_iou: 0.4292 - val_recall_13: 0.6215 - val_precision_11: 0.8578 - lr: 1.0000e-05\n",
            "Epoch 22/40\n",
            "35/35 [==============================] - ETA: 0s - loss: 0.3412 - dice_coef: 0.6588 - iou: 0.4918 - recall_13: 0.8226 - precision_11: 0.8750\n",
            "Epoch 22: val_loss improved from 0.39295 to 0.37783, saving model to /content/drive/MyDrive/Informatyka w medycynie/files/model.h5\n",
            "35/35 [==============================] - 24s 690ms/step - loss: 0.3412 - dice_coef: 0.6588 - iou: 0.4918 - recall_13: 0.8226 - precision_11: 0.8750 - val_loss: 0.3778 - val_dice_coef: 0.6222 - val_iou: 0.4518 - val_recall_13: 0.6521 - val_precision_11: 0.8760 - lr: 1.0000e-05\n",
            "Epoch 23/40\n",
            "35/35 [==============================] - ETA: 0s - loss: 0.3334 - dice_coef: 0.6666 - iou: 0.5006 - recall_13: 0.8288 - precision_11: 0.8880\n",
            "Epoch 23: val_loss did not improve from 0.37783\n",
            "35/35 [==============================] - 20s 565ms/step - loss: 0.3334 - dice_coef: 0.6666 - iou: 0.5006 - recall_13: 0.8288 - precision_11: 0.8880 - val_loss: 0.3836 - val_dice_coef: 0.6164 - val_iou: 0.4457 - val_recall_13: 0.6334 - val_precision_11: 0.8821 - lr: 1.0000e-05\n",
            "Epoch 24/40\n",
            "35/35 [==============================] - ETA: 0s - loss: 0.3258 - dice_coef: 0.6742 - iou: 0.5091 - recall_13: 0.8311 - precision_11: 0.9028\n",
            "Epoch 24: val_loss did not improve from 0.37783\n",
            "35/35 [==============================] - 21s 588ms/step - loss: 0.3258 - dice_coef: 0.6742 - iou: 0.5091 - recall_13: 0.8311 - precision_11: 0.9028 - val_loss: 0.3851 - val_dice_coef: 0.6149 - val_iou: 0.4442 - val_recall_13: 0.6266 - val_precision_11: 0.8818 - lr: 1.0000e-05\n",
            "Epoch 25/40\n",
            "35/35 [==============================] - ETA: 0s - loss: 0.3222 - dice_coef: 0.6778 - iou: 0.5133 - recall_13: 0.8316 - precision_11: 0.9074\n",
            "Epoch 25: val_loss did not improve from 0.37783\n",
            "35/35 [==============================] - 21s 600ms/step - loss: 0.3222 - dice_coef: 0.6778 - iou: 0.5133 - recall_13: 0.8316 - precision_11: 0.9074 - val_loss: 0.3857 - val_dice_coef: 0.6143 - val_iou: 0.4436 - val_recall_13: 0.6271 - val_precision_11: 0.8784 - lr: 1.0000e-05\n",
            "Epoch 26/40\n",
            "35/35 [==============================] - ETA: 0s - loss: 0.3215 - dice_coef: 0.6785 - iou: 0.5140 - recall_13: 0.8313 - precision_11: 0.9053\n",
            "Epoch 26: val_loss did not improve from 0.37783\n",
            "35/35 [==============================] - 20s 585ms/step - loss: 0.3215 - dice_coef: 0.6785 - iou: 0.5140 - recall_13: 0.8313 - precision_11: 0.9053 - val_loss: 0.3852 - val_dice_coef: 0.6148 - val_iou: 0.4441 - val_recall_13: 0.6375 - val_precision_11: 0.8636 - lr: 1.0000e-05\n",
            "Epoch 27/40\n",
            "35/35 [==============================] - ETA: 0s - loss: 0.3254 - dice_coef: 0.6746 - iou: 0.5095 - recall_13: 0.8256 - precision_11: 0.8953\n",
            "Epoch 27: val_loss improved from 0.37783 to 0.37271, saving model to /content/drive/MyDrive/Informatyka w medycynie/files/model.h5\n",
            "35/35 [==============================] - 23s 664ms/step - loss: 0.3254 - dice_coef: 0.6746 - iou: 0.5095 - recall_13: 0.8256 - precision_11: 0.8953 - val_loss: 0.3727 - val_dice_coef: 0.6273 - val_iou: 0.4572 - val_recall_13: 0.6575 - val_precision_11: 0.8671 - lr: 1.0000e-05\n",
            "Epoch 28/40\n",
            "35/35 [==============================] - ETA: 0s - loss: 0.3212 - dice_coef: 0.6788 - iou: 0.5144 - recall_13: 0.8282 - precision_11: 0.9009\n",
            "Epoch 28: val_loss improved from 0.37271 to 0.37193, saving model to /content/drive/MyDrive/Informatyka w medycynie/files/model.h5\n",
            "35/35 [==============================] - 24s 681ms/step - loss: 0.3212 - dice_coef: 0.6788 - iou: 0.5144 - recall_13: 0.8282 - precision_11: 0.9009 - val_loss: 0.3719 - val_dice_coef: 0.6281 - val_iou: 0.4580 - val_recall_13: 0.6606 - val_precision_11: 0.8619 - lr: 1.0000e-05\n",
            "Epoch 29/40\n",
            "35/35 [==============================] - ETA: 0s - loss: 0.3165 - dice_coef: 0.6835 - iou: 0.5197 - recall_13: 0.8295 - precision_11: 0.9079\n",
            "Epoch 29: val_loss did not improve from 0.37193\n",
            "35/35 [==============================] - 20s 571ms/step - loss: 0.3165 - dice_coef: 0.6835 - iou: 0.5197 - recall_13: 0.8295 - precision_11: 0.9079 - val_loss: 0.3721 - val_dice_coef: 0.6279 - val_iou: 0.4578 - val_recall_13: 0.6483 - val_precision_11: 0.8732 - lr: 1.0000e-05\n",
            "Epoch 30/40\n",
            "35/35 [==============================] - ETA: 0s - loss: 0.3112 - dice_coef: 0.6888 - iou: 0.5259 - recall_13: 0.8320 - precision_11: 0.9158\n",
            "Epoch 30: val_loss did not improve from 0.37193\n",
            "35/35 [==============================] - 22s 626ms/step - loss: 0.3112 - dice_coef: 0.6888 - iou: 0.5259 - recall_13: 0.8320 - precision_11: 0.9158 - val_loss: 0.3781 - val_dice_coef: 0.6219 - val_iou: 0.4514 - val_recall_13: 0.6308 - val_precision_11: 0.8758 - lr: 1.0000e-05\n",
            "Epoch 31/40\n",
            "35/35 [==============================] - ETA: 0s - loss: 0.3088 - dice_coef: 0.6912 - iou: 0.5288 - recall_13: 0.8307 - precision_11: 0.9192\n",
            "Epoch 31: val_loss did not improve from 0.37193\n",
            "35/35 [==============================] - 21s 608ms/step - loss: 0.3088 - dice_coef: 0.6912 - iou: 0.5288 - recall_13: 0.8307 - precision_11: 0.9192 - val_loss: 0.3753 - val_dice_coef: 0.6247 - val_iou: 0.4545 - val_recall_13: 0.6324 - val_precision_11: 0.8778 - lr: 1.0000e-05\n",
            "Epoch 32/40\n",
            "35/35 [==============================] - ETA: 0s - loss: 0.3082 - dice_coef: 0.6918 - iou: 0.5295 - recall_13: 0.8303 - precision_11: 0.9171\n",
            "Epoch 32: val_loss did not improve from 0.37193\n",
            "35/35 [==============================] - 20s 563ms/step - loss: 0.3082 - dice_coef: 0.6918 - iou: 0.5295 - recall_13: 0.8303 - precision_11: 0.9171 - val_loss: 0.3771 - val_dice_coef: 0.6229 - val_iou: 0.4525 - val_recall_13: 0.6223 - val_precision_11: 0.8854 - lr: 1.0000e-05\n",
            "Epoch 33/40\n",
            "35/35 [==============================] - ETA: 0s - loss: 0.3080 - dice_coef: 0.6920 - iou: 0.5297 - recall_13: 0.8291 - precision_11: 0.9142\n",
            "Epoch 33: val_loss did not improve from 0.37193\n",
            "\n",
            "Epoch 33: ReduceLROnPlateau reducing learning rate to 1e-06.\n",
            "35/35 [==============================] - 20s 567ms/step - loss: 0.3080 - dice_coef: 0.6920 - iou: 0.5297 - recall_13: 0.8291 - precision_11: 0.9142 - val_loss: 0.3761 - val_dice_coef: 0.6239 - val_iou: 0.4536 - val_recall_13: 0.6201 - val_precision_11: 0.8867 - lr: 1.0000e-05\n",
            "Epoch 34/40\n",
            "35/35 [==============================] - ETA: 0s - loss: 0.3066 - dice_coef: 0.6934 - iou: 0.5313 - recall_13: 0.8304 - precision_11: 0.9148\n",
            "Epoch 34: val_loss improved from 0.37193 to 0.36623, saving model to /content/drive/MyDrive/Informatyka w medycynie/files/model.h5\n",
            "35/35 [==============================] - 23s 663ms/step - loss: 0.3066 - dice_coef: 0.6934 - iou: 0.5313 - recall_13: 0.8304 - precision_11: 0.9148 - val_loss: 0.3662 - val_dice_coef: 0.6338 - val_iou: 0.4641 - val_recall_13: 0.6370 - val_precision_11: 0.8896 - lr: 1.0000e-06\n",
            "Epoch 35/40\n",
            "35/35 [==============================] - ETA: 0s - loss: 0.3012 - dice_coef: 0.6988 - iou: 0.5376 - recall_13: 0.8348 - precision_11: 0.9243\n",
            "Epoch 35: val_loss did not improve from 0.36623\n",
            "35/35 [==============================] - 20s 568ms/step - loss: 0.3012 - dice_coef: 0.6988 - iou: 0.5376 - recall_13: 0.8348 - precision_11: 0.9243 - val_loss: 0.3665 - val_dice_coef: 0.6335 - val_iou: 0.4637 - val_recall_13: 0.6316 - val_precision_11: 0.8931 - lr: 1.0000e-06\n",
            "Epoch 36/40\n",
            "35/35 [==============================] - ETA: 0s - loss: 0.3000 - dice_coef: 0.7000 - iou: 0.5390 - recall_13: 0.8336 - precision_11: 0.9279\n",
            "Epoch 36: val_loss did not improve from 0.36623\n",
            "35/35 [==============================] - 21s 608ms/step - loss: 0.3000 - dice_coef: 0.7000 - iou: 0.5390 - recall_13: 0.8336 - precision_11: 0.9279 - val_loss: 0.3674 - val_dice_coef: 0.6326 - val_iou: 0.4628 - val_recall_13: 0.6275 - val_precision_11: 0.8953 - lr: 1.0000e-06\n",
            "Epoch 37/40\n",
            "35/35 [==============================] - ETA: 0s - loss: 0.2990 - dice_coef: 0.7010 - iou: 0.5402 - recall_13: 0.8337 - precision_11: 0.9300\n",
            "Epoch 37: val_loss did not improve from 0.36623\n",
            "35/35 [==============================] - 21s 605ms/step - loss: 0.2990 - dice_coef: 0.7010 - iou: 0.5402 - recall_13: 0.8337 - precision_11: 0.9300 - val_loss: 0.3682 - val_dice_coef: 0.6318 - val_iou: 0.4620 - val_recall_13: 0.6243 - val_precision_11: 0.8968 - lr: 1.0000e-06\n",
            "Epoch 38/40\n",
            "35/35 [==============================] - ETA: 0s - loss: 0.2982 - dice_coef: 0.7018 - iou: 0.5412 - recall_13: 0.8337 - precision_11: 0.9316\n",
            "Epoch 38: val_loss did not improve from 0.36623\n",
            "35/35 [==============================] - 20s 564ms/step - loss: 0.2982 - dice_coef: 0.7018 - iou: 0.5412 - recall_13: 0.8337 - precision_11: 0.9316 - val_loss: 0.3687 - val_dice_coef: 0.6313 - val_iou: 0.4614 - val_recall_13: 0.6222 - val_precision_11: 0.8978 - lr: 1.0000e-06\n",
            "Epoch 39/40\n",
            "35/35 [==============================] - ETA: 0s - loss: 0.2974 - dice_coef: 0.7026 - iou: 0.5421 - recall_13: 0.8337 - precision_11: 0.9330\n",
            "Epoch 39: val_loss did not improve from 0.36623\n",
            "35/35 [==============================] - 21s 588ms/step - loss: 0.2974 - dice_coef: 0.7026 - iou: 0.5421 - recall_13: 0.8337 - precision_11: 0.9330 - val_loss: 0.3692 - val_dice_coef: 0.6308 - val_iou: 0.4609 - val_recall_13: 0.6205 - val_precision_11: 0.8986 - lr: 1.0000e-06\n",
            "Epoch 40/40\n",
            "35/35 [==============================] - ETA: 0s - loss: 0.2968 - dice_coef: 0.7032 - iou: 0.5429 - recall_13: 0.8337 - precision_11: 0.9343\n",
            "Epoch 40: val_loss did not improve from 0.36623\n",
            "35/35 [==============================] - 21s 613ms/step - loss: 0.2968 - dice_coef: 0.7032 - iou: 0.5429 - recall_13: 0.8337 - precision_11: 0.9343 - val_loss: 0.3696 - val_dice_coef: 0.6304 - val_iou: 0.4605 - val_recall_13: 0.6191 - val_precision_11: 0.8993 - lr: 1.0000e-06\n"
          ]
        },
        {
          "output_type": "execute_result",
          "data": {
            "text/plain": [
              "<keras.callbacks.History at 0x7fe5655a0f10>"
            ]
          },
          "metadata": {},
          "execution_count": 318
        }
      ]
    },
    {
      "cell_type": "markdown",
      "source": [
        "# Efekty"
      ],
      "metadata": {
        "id": "TdZDpW9c9-ps"
      }
    },
    {
      "cell_type": "code",
      "source": [
        "import os\n",
        "os.environ[\"TF_CPP_MIN_LOG_LEVEL\"] = \"2\"\n",
        "import numpy as np\n",
        "import pandas as pd\n",
        "import cv2\n",
        "from glob import glob\n",
        "from tqdm import tqdm\n",
        "import tensorflow as tf\n",
        "from tensorflow.keras.utils import CustomObjectScope\n",
        "from sklearn.metrics import accuracy_score, f1_score, jaccard_score, precision_score, recall_score"
      ],
      "metadata": {
        "id": "24chmYxf99M0"
      },
      "execution_count": null,
      "outputs": []
    },
    {
      "cell_type": "markdown",
      "source": [
        "Deklaracja funkcji odpowiadających za zapisywanie i wczytywanie plików"
      ],
      "metadata": {
        "id": "_y0oVsGAMFnZ"
      }
    },
    {
      "cell_type": "code",
      "source": [
        "H = 512\n",
        "W = 512\n",
        "\n",
        "def create_dir(path):\n",
        "    if not os.path.exists(path):\n",
        "        os.makedirs(path)\n",
        "\n",
        "def read_image(path):\n",
        "    x = cv2.imread(path, cv2.IMREAD_COLOR)\n",
        "    # x = cv2.resize(x, (W, H))\n",
        "    ori_x = x\n",
        "    x = x/255.0\n",
        "    x = x.astype(np.float32)\n",
        "    return ori_x, x\n",
        "\n",
        "def read_mask(path):\n",
        "    x = cv2.imread(path, cv2.IMREAD_GRAYSCALE)  ## (512, 512)\n",
        "    # x = cv2.resize(x, (W, H))\n",
        "    ori_x = x\n",
        "    x = x/255.0\n",
        "    x = x.astype(np.int32)\n",
        "    return ori_x, x\n",
        "\n",
        "def load_data(path):\n",
        "    x = sorted(glob(os.path.join(path, \"image\", \"*.jpg\")))\n",
        "    y = sorted(glob(os.path.join(path, \"1st\", \"*.png\")))\n",
        "    return x, y\n",
        "\n",
        "def save_results(ori_x, ori_y, y_pred, save_image_path):\n",
        "    line = np.ones((H, 10, 3)) * 255\n",
        "\n",
        "    ori_y = np.expand_dims(ori_y, axis=-1)\n",
        "    ori_y = np.concatenate([ori_y, ori_y, ori_y], axis=-1)\n",
        "\n",
        "    y_pred = np.expand_dims(y_pred, axis=-1)\n",
        "    y_pred = np.concatenate([y_pred, y_pred, y_pred], axis=-1) * 255\n",
        "\n",
        "    cat_images = np.concatenate([ori_x, line, ori_y, line, y_pred], axis=1)\n",
        "    cv2.imwrite(save_image_path, cat_images)\n"
      ],
      "metadata": {
        "id": "IMJoLQ26-a2Y"
      },
      "execution_count": null,
      "outputs": []
    },
    {
      "cell_type": "markdown",
      "source": [
        "Kod odpowiadający za zapisywanie wyników i testowanie modelu."
      ],
      "metadata": {
        "id": "BW9XAJL6MNWF"
      }
    },
    {
      "cell_type": "code",
      "source": [
        "if __name__ == \"__main__\":\n",
        "    \"\"\" Save the results in this folder \"\"\"\n",
        "    create_dir(\"/content/drive/MyDrive/Informatyka w medycynie/results\")\n",
        "\n",
        "    \"\"\" Load the model \"\"\"\n",
        "    with CustomObjectScope({'iou': iou, 'dice_coef': dice_coef, 'dice_loss': dice_loss}):\n",
        "        model = tf.keras.models.load_model(\"/content/drive/MyDrive/Informatyka w medycynie/files/model.h5\")\n",
        "\n",
        "    \"\"\" Load the dataset \"\"\"\n",
        "    dataset_path = os.path.join(\"/content/drive/MyDrive/Informatyka w medycynie/new_data\", \"test\")\n",
        "    test_x, test_y = load_data(dataset_path)\n",
        "\n",
        "    \"\"\" Make the prediction and calculate the metrics values \"\"\"\n",
        "    SCORE = []\n",
        "    for x, y in tqdm(zip(test_x, test_y), total=len(test_x)):\n",
        "        \"\"\" Extracting name \"\"\"\n",
        "        name = x.split(\"/\")[-1].split(\".\")[0]\n",
        "\n",
        "        \"\"\" Read the image and mask \"\"\"\n",
        "        ori_x, x = read_image(x)\n",
        "        ori_y, y = read_mask(y)\n",
        "\n",
        "        \"\"\" Prediction \"\"\"\n",
        "        y_pred = model.predict(np.expand_dims(x, axis=0))[0]\n",
        "        y_pred = y_pred > 0.5\n",
        "        y_pred = y_pred.astype(np.int32)\n",
        "        y_pred = np.squeeze(y_pred, axis=-1)\n",
        "\n",
        "        \"\"\" Saving the images \"\"\"\n",
        "\n",
        "        save_image_path = f\"/content/drive/MyDrive/Informatyka w medycynie/results/{name}.png\"\n",
        "        save_results(ori_x, ori_y, y_pred, save_image_path)\n",
        "\n",
        "        \"\"\" Flatten the array \"\"\"\n",
        "        y = y.flatten()\n",
        "        y_pred = y_pred.flatten()\n",
        "\n",
        "        \"\"\" Calculate the metrics \"\"\"\n",
        "        acc_value = accuracy_score(y, y_pred)\n",
        "        f1_value = f1_score(y, y_pred, labels=[0, 1], average=\"binary\")\n",
        "        jac_value = jaccard_score(y, y_pred, labels=[0, 1], average=\"binary\")\n",
        "        recall_value = recall_score(y, y_pred, labels=[0, 1], average=\"binary\")\n",
        "        precision_value = precision_score(y, y_pred, labels=[0, 1], average=\"binary\")\n",
        "        SCORE.append([name, acc_value, f1_value, jac_value, recall_value, precision_value])\n",
        "\n",
        "    score = [s[1:] for s in SCORE]\n",
        "    score = np.mean(score, axis=0)\n",
        "    print(f\"Accuracy: {score[0]:0.5f}\")\n",
        "    print(f\"F1: {score[1]:0.5f}\")\n",
        "    print(f\"Jaccard: {score[2]:0.5f}\")\n",
        "    print(f\"Recall: {score[3]:0.5f}\")\n",
        "    print(f\"Precision: {score[4]:0.5f}\")\n",
        "\n",
        "    \"\"\" Saving \"\"\"\n",
        "    df = pd.DataFrame(SCORE, columns=[\"Image\", \"Acc\", \"F1\", \"Jaccard\", \"Recall\", \"Precision\"])\n",
        "    df.to_csv(\"/content/drive/MyDrive/Informatyka w medycynie/files/score.csv\")"
      ],
      "metadata": {
        "colab": {
          "base_uri": "https://localhost:8080/"
        },
        "id": "QP8uH6Jv_Qpz",
        "outputId": "3a019450-d6a6-47e3-96c5-63b23b452a05"
      },
      "execution_count": null,
      "outputs": [
        {
          "output_type": "stream",
          "name": "stderr",
          "text": [
            "100%|██████████| 14/14 [00:06<00:00,  2.17it/s]"
          ]
        },
        {
          "output_type": "stream",
          "name": "stdout",
          "text": [
            "Accuracy: 0.96795\n",
            "F1: 0.75085\n",
            "Jaccard: 0.60139\n",
            "Recall: 0.78026\n",
            "Precision: 0.72525\n"
          ]
        },
        {
          "output_type": "stream",
          "name": "stderr",
          "text": [
            "\n"
          ]
        }
      ]
    },
    {
      "cell_type": "markdown",
      "source": [
        "# Dane"
      ],
      "metadata": {
        "id": "Les2EWF9OT84"
      }
    },
    {
      "cell_type": "markdown",
      "source": [
        "Wszystkie dane oraz notebooki użyte oraz wygenerowane w ramach projektu znajdują się w folderze:\n",
        "https://drive.google.com/drive/folders/1q5aJ-41V9dM0-n6q7FVAHpp7VMf-CUN4?usp=sharing\n",
        "W folderach ,,10 epok\" oraz ,,20 epok\" znajdują się wyniki uczenia z kolejno 10 i 20 epok.\n"
      ],
      "metadata": {
        "id": "CQ9iJAyrOb4A"
      }
    },
    {
      "cell_type": "markdown",
      "source": [
        "Zauważono, że po 20 epokach z utworzonymi warstwami:"
      ],
      "metadata": {
        "id": "2u7-zWtxYWmc"
      }
    },
    {
      "cell_type": "code",
      "source": [
        "s1, p1 = encoder_block(inputs, 16)\n",
        "  s2, p2 = encoder_block(p1, 32)\n",
        "  s3, p3 = encoder_block(p2, 64)\n",
        "\n",
        "  b1 = conv_block(p3, 128)\n",
        "  d1 = decoder_block(b1, s3, 64)\n",
        "  d2 = decoder_block(d1, s2, 32)\n",
        "  d3 = decoder_block(d2, s1, 16)"
      ],
      "metadata": {
        "id": "zSeenNNwa1Bf"
      },
      "execution_count": null,
      "outputs": []
    },
    {
      "cell_type": "markdown",
      "source": [
        "Wyniki są bardzo słabe, dlatego przy następnym uczeniu, wykorzystano warstwy i przeporwadzono je przez 10 epok:"
      ],
      "metadata": {
        "id": "jTBpuOpTa32r"
      }
    },
    {
      "cell_type": "code",
      "source": [
        "s1, p1 = encoder_block(inputs, 32)\n",
        "  s2, p2 = encoder_block(p1, 64)\n",
        "  s3, p3 = encoder_block(p2, 128)\n",
        "\n",
        "  b1 = conv_block(p3, 256)\n",
        "  d1 = decoder_block(b1, s3, 128)\n",
        "  d2 = decoder_block(d1, s2, 64)\n",
        "  d3 = decoder_block(d2, s1, 32)\n",
        "Early stopping patience zmniejszono do 5"
      ],
      "metadata": {
        "id": "nR63zDy3bCF6"
      },
      "execution_count": null,
      "outputs": []
    },
    {
      "cell_type": "markdown",
      "source": [
        "5 warstw:"
      ],
      "metadata": {
        "id": "zSeHrHW24bXc"
      }
    },
    {
      "cell_type": "code",
      "source": [
        "s1, p1 = encoder_block(inputs, 64)\n",
        "  s2, p2 = encoder_block(p1, 128)\n",
        "  s3, p3 = encoder_block(p2, 256)\n",
        "  s4, p4 = encoder_block(p3, 512)\n",
        "  s5, p5 = encoder_block(p4, 1024)\n",
        "\n",
        "  b1 = conv_block(p5, 2048)\n",
        "\n",
        "  d1 = decoder_block(b1, s5, 1024)\n",
        "  d2 = decoder_block(d1, s4, 512)\n",
        "  d3 = decoder_block(d2, s3, 256)\n",
        "  d4 = decoder_block(d3, s2, 128)\n",
        "  d5 = decoder_block(d4, s1, 64)\n",
        "  outputs = Conv2D(1, 1, padding=\"same\", activation=\"sigmoid\")(d5)\n"
      ],
      "metadata": {
        "id": "orE2Tduk4ZGG"
      },
      "execution_count": null,
      "outputs": []
    },
    {
      "cell_type": "markdown",
      "source": [
        "Najlepsze uzyskane wyniki dla 4 warstw i 20 epok, drugie najlepsze dla 5 warstw i 20 epok, trzecie- 4 warstw 20 epok."
      ],
      "metadata": {
        "id": "_alVZLEN-OKT"
      }
    }
  ]
}